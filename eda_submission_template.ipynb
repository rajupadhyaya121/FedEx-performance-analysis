{
  "nbformat": 4,
  "nbformat_minor": 0,
  "metadata": {
    "colab": {
      "private_outputs": true,
      "provenance": [],
      "collapsed_sections": [
        "vncDsAP0Gaoa",
        "FJNUwmbgGyua",
        "w6K7xa23Elo4",
        "yQaldy8SH6Dl",
        "PH-0ReGfmX4f",
        "mDgbUHAGgjLW",
        "O_i_v8NEhb9l",
        "HhfV-JJviCcP",
        "Y3lxredqlCYt",
        "3RnN4peoiCZX",
        "x71ZqKXriCWQ",
        "7hBIi_osiCS2",
        "JlHwYmJAmNHm",
        "35m5QtbWiB9F",
        "PoPl-ycgm1ru",
        "H0kj-8xxnORC",
        "nA9Y7ga8ng1Z",
        "PBTbrJXOngz2",
        "u3PMJOP6ngxN",
        "dauF4eBmngu3",
        "bKJF3rekwFvQ",
        "MSa1f5Uengrz",
        "GF8Ens_Soomf",
        "0wOQAZs5pc--",
        "K5QZ13OEpz2H",
        "lQ7QKXXCp7Bj",
        "448CDAPjqfQr",
        "KSlN3yHqYklG",
        "t6dVpIINYklI",
        "ijmpgYnKYklI",
        "-JiQyfWJYklI",
        "EM7whBJCYoAo",
        "fge-S5ZAYoAp",
        "85gYPyotYoAp",
        "RoGjAbkUYoAp",
        "4Of9eVA-YrdM",
        "iky9q4vBYrdO",
        "F6T5p64dYrdO",
        "y-Ehk30pYrdP",
        "bamQiAODYuh1",
        "QHF8YVU7Yuh3",
        "GwzvFGzlYuh3",
        "qYpmQ266Yuh3",
        "OH-pJp9IphqM",
        "bbFf2-_FphqN",
        "_ouA3fa0phqN",
        "Seke61FWphqN",
        "PIIx-8_IphqN",
        "t27r6nlMphqO",
        "r2jJGEOYphqO",
        "b0JNsNcRphqO",
        "BZR9WyysphqO",
        "jj7wYXLtphqO",
        "eZrbJ2SmphqO",
        "rFu4xreNphqO",
        "YJ55k-q6phqO",
        "gCFgpxoyphqP",
        "OVtJsKN_phqQ",
        "lssrdh5qphqQ",
        "U2RJ9gkRphqQ",
        "1M8mcRywphqQ",
        "tgIPom80phqQ",
        "JMzcOPDDphqR",
        "x-EpHcCOp1ci",
        "X_VqEhTip1ck",
        "8zGJKyg5p1ck",
        "PVzmfK_Ep1ck",
        "n3dbpmDWp1ck",
        "ylSl6qgtp1ck",
        "ZWILFDl5p1ck",
        "M7G43BXep1ck",
        "Ag9LCva-p1cl",
        "E6MkPsBcp1cl",
        "2cELzS2fp1cl",
        "3MPXvC8up1cl",
        "NC_X3p0fY2L0",
        "UV0SzAkaZNRQ",
        "YPEH6qLeZNRQ",
        "q29F0dvdveiT",
        "EXh0U9oCveiU",
        "22aHeOlLveiV",
        "JcMwzZxoAimU",
        "8G2x9gOozGDZ",
        "gCX9965dhzqZ",
        "gIfDvo9L0UH2"
      ],
      "include_colab_link": true
    },
    "kernelspec": {
      "name": "python3",
      "display_name": "Python 3"
    },
    "language_info": {
      "name": "python"
    }
  },
  "cells": [
    {
      "cell_type": "markdown",
      "metadata": {
        "id": "view-in-github",
        "colab_type": "text"
      },
      "source": [
        "<a href=\"https://colab.research.google.com/github/rajupadhyaya121/FedEx-performance-analysis/blob/main/eda_submission_template.ipynb\" target=\"_parent\"><img src=\"https://colab.research.google.com/assets/colab-badge.svg\" alt=\"Open In Colab\"/></a>"
      ]
    },
    {
      "cell_type": "markdown",
      "source": [
        "# **Project Name**    -\n",
        "\n"
      ],
      "metadata": {
        "id": "vncDsAP0Gaoa"
      }
    },
    {
      "cell_type": "markdown",
      "source": [
        "##### **Project Type**    - FedEx Logistics Performance Analysis\n",
        "##### **Contribution**    - Individual"
      ],
      "metadata": {
        "id": "beRrZCGUAJYm"
      }
    },
    {
      "cell_type": "markdown",
      "source": [
        "# **Project Summary -**"
      ],
      "metadata": {
        "id": "FJNUwmbgGyua"
      }
    },
    {
      "cell_type": "markdown",
      "source": [
        "This project is centered on optimizing FedEx’s global supply chain and logistics performance through systematic data analysis. In the modern business environment, where globalization and eCommerce have drastically increased the scale and complexity of logistics, organizations like FedEx must constantly refine their operations to maintain a competitive edge. Customer satisfaction is now directly tied to on-time deliveries, cost-effective shipping, and reliable vendor performance. Any inefficiencies—whether delays, high freight costs, or inconsistent vendor reliability—can result in both financial losses and reputational damage. This project leverages historical shipment and delivery data to provide insights into these challenges and identify practical strategies for improvement."
      ],
      "metadata": {
        "id": "F6v_1wHtG2nS"
      }
    },
    {
      "cell_type": "markdown",
      "source": [
        "# **GitHub Link -**"
      ],
      "metadata": {
        "id": "w6K7xa23Elo4"
      }
    },
    {
      "cell_type": "markdown",
      "source": [
        "Provide your GitHub Link here."
      ],
      "metadata": {
        "id": "h1o69JH3Eqqn"
      }
    },
    {
      "cell_type": "markdown",
      "source": [
        "# **Problem Statement**\n"
      ],
      "metadata": {
        "id": "yQaldy8SH6Dl"
      }
    },
    {
      "cell_type": "markdown",
      "source": [
        "1. Shipment Mode and Timeliness-FedEx manages shipments through multiple modes (Air, Sea, Road, etc.), but it is unclear how each mode affects the probability of on-time delivery. Understanding this relationship is crucial to optimize mode selection while balancing cost and reliability.\n",
        "\n",
        "2. Geographical Delays-Certain countries or regions may consistently face higher shipment delays due to infrastructure, customs clearance, or vendor inefficiencies. Identifying these regions will help FedEx target improvements and strengthen its global supply chain.\n",
        "\n",
        "3. Team / Regional Management Performance-Different internal teams and management regions (e.g., PMO–US, PMO–Asia) may show varying levels of efficiency. Measuring and comparing their on-time performance can uncover best practices and highlight areas needing operational support.\n",
        "\n",
        "4. Shipment Weight and Insurance Costs-Heavier shipments often incur higher insurance expenses, but the exact relationship needs validation. Analyzing this correlation will help FedEx develop cost-optimization strategies for insurance and risk management.\n",
        "\n",
        "5. Lead Time vs. Delivery Performance-Lead time (the gap between order placement and scheduled delivery) directly impacts delivery success. Very short lead times may increase delays, while longer ones might ensure smoother operations. Evaluating this relationship can guide realistic scheduling and improve customer satisfaction."
      ],
      "metadata": {
        "id": "PhDvGCAqmjP1"
      }
    },
    {
      "cell_type": "markdown",
      "source": [
        "# **General Guidelines** : -  "
      ],
      "metadata": {
        "id": "mDgbUHAGgjLW"
      }
    },
    {
      "cell_type": "markdown",
      "source": [
        "1.   Well-structured, formatted, and commented code is required.\n",
        "2.   Exception Handling, Production Grade Code & Deployment Ready Code will be a plus. Those students will be awarded some additional credits.\n",
        "     \n",
        "     The additional credits will have advantages over other students during Star Student selection.\n",
        "       \n",
        "             [ Note: - Deployment Ready Code is defined as, the whole .ipynb notebook should be executable in one go\n",
        "                       without a single error logged. ]\n",
        "\n",
        "3.   Each and every logic should have proper comments.\n",
        "4. You may add as many number of charts you want. Make Sure for each and every chart the following format should be answered.\n",
        "        \n",
        "\n",
        "```\n",
        "# Chart visualization code\n",
        "```\n",
        "            \n",
        "\n",
        "*   Why did you pick the specific chart?\n",
        "*   What is/are the insight(s) found from the chart?\n",
        "* Will the gained insights help creating a positive business impact?\n",
        "Are there any insights that lead to negative growth? Justify with specific reason.\n",
        "\n",
        "5. You have to create at least 20 logical & meaningful charts having important insights.\n",
        "\n",
        "\n",
        "[ Hints : - Do the Vizualization in  a structured way while following \"UBM\" Rule.\n",
        "\n",
        "U - Univariate Analysis,\n",
        "\n",
        "B - Bivariate Analysis (Numerical - Categorical, Numerical - Numerical, Categorical - Categorical)\n",
        "\n",
        "M - Multivariate Analysis\n",
        " ]\n",
        "\n",
        "\n",
        "\n"
      ],
      "metadata": {
        "id": "ZrxVaUj-hHfC"
      }
    },
    {
      "cell_type": "markdown",
      "source": [
        "# ***Let's Begin !***"
      ],
      "metadata": {
        "id": "O_i_v8NEhb9l"
      }
    },
    {
      "cell_type": "markdown",
      "source": [
        "## ***1. Know Your Data***"
      ],
      "metadata": {
        "id": "HhfV-JJviCcP"
      }
    },
    {
      "cell_type": "markdown",
      "source": [
        "### Import Libraries"
      ],
      "metadata": {
        "id": "Y3lxredqlCYt"
      }
    },
    {
      "cell_type": "code",
      "source": [
        "# Import Libraries\n",
        "import pandas as pd\n",
        "import matplotlib.pyplot as plt\n",
        "import seaborn as sns"
      ],
      "metadata": {
        "id": "M8Vqi-pPk-HR"
      },
      "execution_count": null,
      "outputs": []
    },
    {
      "cell_type": "markdown",
      "source": [
        "### Dataset Loading"
      ],
      "metadata": {
        "id": "3RnN4peoiCZX"
      }
    },
    {
      "cell_type": "code",
      "source": [
        "# Load Dataset\n",
        "df=pd.read_csv(\"/content/SCMS_Delivery_History_Dataset.csv\")"
      ],
      "metadata": {
        "id": "4CkvbW_SlZ_R"
      },
      "execution_count": null,
      "outputs": []
    },
    {
      "cell_type": "markdown",
      "source": [
        "### Dataset First View"
      ],
      "metadata": {
        "id": "x71ZqKXriCWQ"
      }
    },
    {
      "cell_type": "code",
      "source": [
        "# Dataset First Look\n",
        "df.head()\n",
        "df.tail()"
      ],
      "metadata": {
        "id": "LWNFOSvLl09H"
      },
      "execution_count": null,
      "outputs": []
    },
    {
      "cell_type": "markdown",
      "source": [
        "### Dataset Rows & Columns count"
      ],
      "metadata": {
        "id": "7hBIi_osiCS2"
      }
    },
    {
      "cell_type": "code",
      "source": [
        "df.describe()"
      ],
      "metadata": {
        "id": "Kllu7SJgmLij"
      },
      "execution_count": null,
      "outputs": []
    },
    {
      "cell_type": "markdown",
      "source": [
        "### Dataset Information"
      ],
      "metadata": {
        "id": "JlHwYmJAmNHm"
      }
    },
    {
      "cell_type": "markdown",
      "source": [
        "1. ID – Unique shipment identifier.\n",
        "\n",
        "2. Project Code – Code for shipment project.\n",
        "\n",
        "3. PQ # – Purchase quote number.\n",
        "\n",
        "4. PO/ SO # – Purchase order / Sales order number.\n",
        "\n",
        "5. ASN/DN # – Advanced shipment / Delivery note number.\n",
        "\n",
        "6. Country – Destination country.\n",
        "\n",
        "7. Managed By – Region handling the shipment.\n",
        "\n",
        "8. Fulfill Via – Transport method (Air/Truck/Ship).\n",
        "\n",
        "9. Vendor INCO Term – Shipping terms agreed with vendor.\n",
        "\n",
        "10. Shipment Mode – Mode of shipment (Air/Sea/Truck).\n",
        "\n",
        "11. Shipment Date – Dispatch date of goods.\n",
        "\n",
        "12. Scheduled Delivery Date – Planned delivery date.\n",
        "\n",
        "13. Delivered to Client Date – Actual delivery date.\n",
        "\n",
        "14. Delivery Recorded Date – Date recorded in system.\n",
        "\n",
        "15. Product Group – Type/category of product.\n",
        "\n",
        "16. Sub Classification – Subgroup of product.\n",
        "\n",
        "7. Vendor – Supplier name.\n",
        "\n",
        "18. Item Description – Description of item.\n",
        "\n",
        "19. Molecule/Test Type – Type of medical test/molecule.\n",
        "\n",
        "20. Brand – Brand of product.\n",
        "\n",
        "21. Dosage – Dosage info for medicines.\n",
        "\n",
        "22. Dosage Form – Form (tablet, vial, etc.).\n",
        "\n",
        "23. Unit of Measure (Per Pack) – Unit size in pack.\n",
        "\n",
        "24. Line Item Quantity – Quantity ordered.\n",
        "\n",
        "25. Line Item Value (USD) – Value of item in USD.\n",
        "\n",
        "26. Unit Price (USD) – Price per unit.\n",
        "\n",
        "27. Manufacturing Site – Production location.\n",
        "\n",
        "28. First Line Designation – Indicates first-line treatment (Yes/No).\n",
        "\n",
        "29. Weight (Kilograms) – Shipment weight.\n",
        "\n",
        "30. Freight Cost (USD) – Cost of shipment.\n",
        "\n",
        "31. Line Item Insurance (USD) – Insurance charge for item."
      ],
      "metadata": {
        "id": "j8zCY5KwIaS-"
      }
    },
    {
      "cell_type": "markdown",
      "source": [
        "#### Duplicate Values"
      ],
      "metadata": {
        "id": "35m5QtbWiB9F"
      }
    },
    {
      "cell_type": "code",
      "source": [
        "# Dataset Duplicate Value Count\n",
        "df.duplicated().sum()"
      ],
      "metadata": {
        "id": "1sLdpKYkmox0"
      },
      "execution_count": null,
      "outputs": []
    },
    {
      "cell_type": "markdown",
      "source": [
        "#### Missing Values/Null Values"
      ],
      "metadata": {
        "id": "PoPl-ycgm1ru"
      }
    },
    {
      "cell_type": "code",
      "source": [
        "# Missing Values/Null Values Count\n",
        "df.isnull().sum()"
      ],
      "metadata": {
        "id": "GgHWkxvamxVg"
      },
      "execution_count": null,
      "outputs": []
    },
    {
      "cell_type": "code",
      "source": [
        "# Visualizing the missing values\n",
        "missing_counts=df.isnull().sum()\n",
        "missing_counts=missing_counts[missing_counts>0]\n",
        "missing_counts.plot(kind='bar',color='orange')\n",
        "plt.title(\"Missing Value Vizualization\")\n",
        "plt.ylabel(\"Count of Missing Values\")\n",
        "plt.show()"
      ],
      "metadata": {
        "id": "3q5wnI3om9sJ"
      },
      "execution_count": null,
      "outputs": []
    },
    {
      "cell_type": "code",
      "source": [
        "# Replacing Numerical NaN values\n",
        "for col in df.select_dtypes(include=['float64','int64']).columns:\n",
        "  df[col]=df[col].fillna(df[col].median())\n",
        "# Replacing Categorical Data\n",
        "for col in df.select_dtypes(include=['object']).columns:\n",
        "  df[col]=df[col].fillna(df[col].mode()[0])\n",
        "print(df.isnull().sum())"
      ],
      "metadata": {
        "id": "tkNeih3yOY9X"
      },
      "execution_count": null,
      "outputs": []
    },
    {
      "cell_type": "code",
      "source": [
        "# Handaling Outlier\n",
        "numeric_col=df.select_dtypes(include=['float64','int64']).columns\n",
        "for col in numeric_col:\n",
        "  q1=df[col].quantile(0.25)\n",
        "  q3=df[col].quantile(0.75)\n",
        "  iqr=q3-q1\n",
        "  lb=q1-1.5*iqr\n",
        "  ub=q3+1.5*iqr\n",
        "df=df[(df[col]>=lb)&(df[col]<=ub)]"
      ],
      "metadata": {
        "id": "BIkMXczjQpHN"
      },
      "execution_count": null,
      "outputs": []
    },
    {
      "cell_type": "markdown",
      "source": [
        "## 3. ***Data Wrangling***"
      ],
      "metadata": {
        "id": "dauF4eBmngu3"
      }
    },
    {
      "cell_type": "markdown",
      "source": [
        "### Data Wrangling Code"
      ],
      "metadata": {
        "id": "bKJF3rekwFvQ"
      }
    },
    {
      "cell_type": "code",
      "source": [
        "# Write your code to make your dataset analysis ready.\n",
        "# Top 5 country by Shipment count\n",
        "print(df['Country'].value_counts().head(5))\n",
        "plt.figure(figsize=(8,4))\n",
        "df['Country'].value_counts().head(5).plot(kind='bar', color=\"orange\")\n",
        "plt.title(\"Top 5 Countries by Shipments\")\n",
        "plt.ylabel(\"Count\")\n",
        "plt.show()\n",
        "# Top 5 Vendors\n",
        "print(\"\\nTop 5 Vendors:\\n\")\n",
        "print(df['Vendor'].value_counts().head(5))\n",
        "plt.figure(figsize=(8,4))\n",
        "df['Vendor'].value_counts().head(5).plot(kind='bar', color=\"teal\")\n",
        "plt.title(\"Top 5 Vendors\")\n",
        "plt.ylabel(\"Count\")\n",
        "plt.show()"
      ],
      "metadata": {
        "id": "wk-9a2fpoLcV"
      },
      "execution_count": null,
      "outputs": []
    },
    {
      "cell_type": "code",
      "source": [
        "print(df['Freight Cost (USD)'].unique()[:20])"
      ],
      "metadata": {
        "id": "aRBOr6X5UuZO"
      },
      "execution_count": null,
      "outputs": []
    },
    {
      "cell_type": "code",
      "source": [
        "df['Freight Cost (USD)'] = pd.to_numeric(df['Freight Cost (USD)'], errors='coerce')\n",
        "df['Line Item Value'] = pd.to_numeric(df['Line Item Value'], errors='coerce')\n",
        "df[['Freight Cost (USD)', 'Line Item Value']] = df[['Freight Cost (USD)', 'Line Item Value']].fillna(0)\n",
        "# 3. Correlation between Freight Cost and Line Item Value\n",
        "print(\"\\nCorrelation between Freight Cost & Line Item Value:\\n\")\n",
        "print(df[['Freight Cost (USD)', 'Line Item Value']].corr())\n",
        "\n",
        "plt.figure(figsize=(6,4))\n",
        "sns.scatterplot(x=\"Line Item Value\", y=\"Freight Cost (USD)\", data=df, alpha=0.5)\n",
        "plt.title(\"Freight Cost vs Line Item Value\")\n",
        "plt.show()"
      ],
      "metadata": {
        "id": "k6apCvGaVQsE"
      },
      "execution_count": null,
      "outputs": []
    },
    {
      "cell_type": "markdown",
      "source": [
        "Shipment Mode vs On-Time Delivery"
      ],
      "metadata": {
        "id": "PIGNch9LEkZH"
      }
    },
    {
      "cell_type": "code",
      "source": [
        "#1. Shipment Mode vs On-time Delivery(Get insight on which mode is more reliable)\n",
        "df[\"PO Sent to Vendor Date\"] = pd.to_datetime(df[\"PO Sent to Vendor Date\"], errors=\"coerce\")\n",
        "df[\"Scheduled Delivery Date\"] = pd.to_datetime(df[\"Scheduled Delivery Date\"], errors=\"coerce\")\n",
        "df[\"Delivered to Client Date\"] = pd.to_datetime(df[\"Delivered to Client Date\"], errors=\"coerce\")\n",
        "\n",
        "# On-time / Delayed calculate\n",
        "df[\"On_Time\"] = df[\"Delivered to Client Date\"] <= df[\"Scheduled Delivery Date\"]\n",
        "\n",
        "# Plot\n",
        "plt.figure(figsize=(8,5))\n",
        "sns.countplot(data=df, x=\"Shipment Mode\", hue=\"On_Time\")\n",
        "plt.title(\"Shipment Mode vs On-Time Delivery\")\n",
        "plt.xlabel(\"Shipment Mode\")\n",
        "plt.ylabel(\"Count of Shipments\")\n",
        "plt.legend(title=\"On Time\", labels=[\"Delayed\",\"On Time\"])\n",
        "plt.show()"
      ],
      "metadata": {
        "id": "YHFMxamkc4H_"
      },
      "execution_count": null,
      "outputs": []
    },
    {
      "cell_type": "markdown",
      "source": [
        "#Top 10 Countries with Highest Delivery Delays"
      ],
      "metadata": {
        "id": "P7zhifDNEfIt"
      }
    },
    {
      "cell_type": "code",
      "source": [
        "# Get insight on which coutries are delivery late regularly\n",
        "df['On_Time'] = df['Delivered to Client Date'] <= df['Scheduled Delivery Date']\n",
        "\n",
        "# Delay % by Country\n",
        "country_delay = 1 - df.groupby('Country')['On_Time'].mean()\n",
        "country_delay.sort_values(ascending=False).head(10).plot(kind='barh', color='tomato')\n",
        "plt.title(\"Top 10 Countries with Highest Delivery Delays\")\n",
        "plt.xlabel(\"Delay %\")\n",
        "plt.ylabel(\"Country\")\n",
        "plt.show()"
      ],
      "metadata": {
        "id": "SzUYpA-wfd3f"
      },
      "execution_count": null,
      "outputs": []
    },
    {
      "cell_type": "markdown",
      "source": [
        "#On-Time Delivery Share by Management Team"
      ],
      "metadata": {
        "id": "HpsX4_VvEaS_"
      }
    },
    {
      "cell_type": "code",
      "source": [
        "team_perf = df.groupby('Managed By')['On_Time'].mean()\n",
        "team_perf.plot(kind='pie', autopct='%1.1f%%', figsize=(6,6), cmap=\"Set3\")\n",
        "plt.title(\"On-Time Delivery Share by Management Team\")\n",
        "plt.ylabel(\"\")\n",
        "plt.show()"
      ],
      "metadata": {
        "id": "SEWg580RfiMG"
      },
      "execution_count": null,
      "outputs": []
    },
    {
      "cell_type": "markdown",
      "source": [
        "#Shipmet Weight vs Insurance cost"
      ],
      "metadata": {
        "id": "bUHCNcMbEQei"
      }
    },
    {
      "cell_type": "code",
      "source": [
        "plt.figure(figsize=(6,4))\n",
        "sns.scatterplot(x='Weight (Kilograms)', y='Line Item Insurance (USD)', data=df, alpha=0.6)\n",
        "plt.title(\"Shipment Weight vs Insurance Cost\")\n",
        "plt.xlabel(\"Weight (Kilograms)\")\n",
        "plt.ylabel(\"Insurance Cost (USD)\")\n",
        "plt.show()"
      ],
      "metadata": {
        "id": "3ALOWceqANGT"
      },
      "execution_count": null,
      "outputs": []
    },
    {
      "cell_type": "markdown",
      "source": [
        "#Lead time vs Delivery Performance"
      ],
      "metadata": {
        "id": "4CVgv6fvEF7N"
      }
    },
    {
      "cell_type": "code",
      "source": [
        "df['PO Sent to Vendor Date'] = pd.to_datetime(df['PO Sent to Vendor Date'], errors='coerce')\n",
        "df['Scheduled Delivery Date'] = pd.to_datetime(df['Scheduled Delivery Date'], errors='coerce')\n",
        "\n",
        "# Calculate lead time in days\n",
        "df['Lead_Time'] = (df['Scheduled Delivery Date'] - df['PO Sent to Vendor Date']).dt.days\n",
        "plt.figure(figsize=(10,6))\n",
        "sns.kdeplot(data=df, x='Lead_Time', hue='On_Time', fill=True)\n",
        "plt.title(\"Lead Time vs Delivery Performance\")\n",
        "plt.xlabel(\"Lead Time (Days)\")\n",
        "plt.ylabel(\"Density\")\n",
        "plt.show()"
      ],
      "metadata": {
        "id": "DQGdp8piA9vp"
      },
      "execution_count": null,
      "outputs": []
    },
    {
      "cell_type": "markdown",
      "source": [
        "# **Conclusion**"
      ],
      "metadata": {
        "id": "gCX9965dhzqZ"
      }
    },
    {
      "cell_type": "markdown",
      "source": [
        "The analysis of FedEx Logistics supply chain data highlights critical trends that influence operational efficiency and delivery performance.\n",
        "\n",
        "1. Shipment Mode Impact – Air shipments show the highest likelihood of on-time delivery, outperforming Sea and Road modes. Although costlier, Air freight proves more reliable for urgent and high-priority shipments. FedEx can use this insight to balance cost and timeliness when allocating shipment modes.\n",
        "\n",
        "2. Country-wise Delays – Certain countries consistently face higher delays, often due to customs clearance issues, regional infrastructure challenges, or vendor inefficiencies. By identifying these regions, FedEx can take targeted actions such as partnering with local logistics providers, redesigning routes, or improving vendor contracts.\n",
        "\n",
        "3. Team / Region Performance – Performance varies across teams and regions. For example, some management offices like PMO–US deliver better on-time performance compared to others. This highlights an opportunity to replicate the practices of high-performing teams and provide additional training or resources where delays are frequent.\n",
        "\n",
        "4. Weight vs Insurance Costs – Heavier shipments show a strong correlation with higher insurance costs. This is expected since heavier goods carry greater risks. FedEx can optimize by consolidating smaller loads, improving packaging, or renegotiating insurance terms to manage these expenses.\n",
        "\n",
        "5. Lead Time vs Delivery Performance – Longer lead times generally correlate with better on-time performance, while very short lead times increase the risk of delays. This indicates that unrealistic scheduling creates bottlenecks. By setting optimal lead times, FedEx can balance customer expectations with operational feasibility."
      ],
      "metadata": {
        "id": "0xNl8exLD0rx"
      }
    },
    {
      "cell_type": "markdown",
      "source": [
        "The findings show that shipment mode, country-specific challenges, regional management practices, shipment weight, and lead time planning are the most influential factors in FedEx’s delivery performance. Addressing these areas will help reduce delays, cut costs, and improve customer satisfaction. With growing global eCommerce, these insights position FedEx to optimize its logistics network and maintain a strong competitive advantage."
      ],
      "metadata": {
        "id": "qrzlo-gQD-sG"
      }
    },
    {
      "cell_type": "markdown",
      "source": [
        "### ***Hurrah! You have successfully completed your EDA Capstone Project !!!***"
      ],
      "metadata": {
        "id": "gIfDvo9L0UH2"
      }
    }
  ]
}